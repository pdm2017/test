{
 "cells": [
  {
   "cell_type": "code",
   "execution_count": 1,
   "metadata": {},
   "outputs": [],
   "source": [
    "import pandas as pd"
   ]
  },
  {
   "cell_type": "code",
   "execution_count": 2,
   "metadata": {},
   "outputs": [
    {
     "name": "stdout",
     "output_type": "stream",
     "text": [
      "{'name': ['Jane', 'Tom', 'Alice', 'John'], 'age': [34, 27, 51, 45], 'point': [80, 70, 90, 60]}\n"
     ]
    }
   ],
   "source": [
    "a = {'name':['Jane','Tom','Alice','John'],\n",
    "     'age':[34,27,51,45],\n",
    "     'point':[80,70,90,60]}\n",
    "print(a)\n",
    "df1 = pd.DataFrame(a,columns=['name','point','age','etc'],\n",
    "                   index=['학생1','학생2','학생3','학생4'])"
   ]
  },
  {
   "cell_type": "code",
   "execution_count": 3,
   "metadata": {},
   "outputs": [
    {
     "data": {
      "text/html": [
       "<div>\n",
       "<style scoped>\n",
       "    .dataframe tbody tr th:only-of-type {\n",
       "        vertical-align: middle;\n",
       "    }\n",
       "\n",
       "    .dataframe tbody tr th {\n",
       "        vertical-align: top;\n",
       "    }\n",
       "\n",
       "    .dataframe thead th {\n",
       "        text-align: right;\n",
       "    }\n",
       "</style>\n",
       "<table border=\"1\" class=\"dataframe\">\n",
       "  <thead>\n",
       "    <tr style=\"text-align: right;\">\n",
       "      <th></th>\n",
       "      <th>name</th>\n",
       "      <th>point</th>\n",
       "      <th>age</th>\n",
       "      <th>etc</th>\n",
       "    </tr>\n",
       "  </thead>\n",
       "  <tbody>\n",
       "    <tr>\n",
       "      <td>학생1</td>\n",
       "      <td>Jane</td>\n",
       "      <td>80</td>\n",
       "      <td>34</td>\n",
       "      <td>NaN</td>\n",
       "    </tr>\n",
       "    <tr>\n",
       "      <td>학생2</td>\n",
       "      <td>Tom</td>\n",
       "      <td>70</td>\n",
       "      <td>27</td>\n",
       "      <td>NaN</td>\n",
       "    </tr>\n",
       "    <tr>\n",
       "      <td>학생3</td>\n",
       "      <td>Alice</td>\n",
       "      <td>90</td>\n",
       "      <td>51</td>\n",
       "      <td>NaN</td>\n",
       "    </tr>\n",
       "    <tr>\n",
       "      <td>학생4</td>\n",
       "      <td>John</td>\n",
       "      <td>60</td>\n",
       "      <td>45</td>\n",
       "      <td>NaN</td>\n",
       "    </tr>\n",
       "  </tbody>\n",
       "</table>\n",
       "</div>"
      ],
      "text/plain": [
       "      name  point  age  etc\n",
       "학생1   Jane     80   34  NaN\n",
       "학생2    Tom     70   27  NaN\n",
       "학생3  Alice     90   51  NaN\n",
       "학생4   John     60   45  NaN"
      ]
     },
     "execution_count": 3,
     "metadata": {},
     "output_type": "execute_result"
    }
   ],
   "source": [
    "df1.head()"
   ]
  },
  {
   "cell_type": "code",
   "execution_count": 4,
   "metadata": {},
   "outputs": [
    {
     "name": "stdout",
     "output_type": "stream",
     "text": [
      "학생1     Jane\n",
      "학생2      Tom\n",
      "학생3    Alice\n",
      "학생4     John\n",
      "Name: name, dtype: object\n"
     ]
    }
   ],
   "source": [
    "print(df1['name'])"
   ]
  },
  {
   "cell_type": "code",
   "execution_count": 5,
   "metadata": {},
   "outputs": [
    {
     "name": "stdout",
     "output_type": "stream",
     "text": [
      "학생1     Jane\n",
      "학생2      Tom\n",
      "학생3    Alice\n",
      "학생4     John\n",
      "Name: name, dtype: object\n"
     ]
    }
   ],
   "source": [
    "print(df1.name)"
   ]
  },
  {
   "cell_type": "code",
   "execution_count": 6,
   "metadata": {},
   "outputs": [
    {
     "name": "stdout",
     "output_type": "stream",
     "text": [
      "     age  point\n",
      "학생1   34     80\n",
      "학생2   27     70\n",
      "학생3   51     90\n",
      "학생4   45     60\n"
     ]
    }
   ],
   "source": [
    "print(df1[['age','point']]) # 열 이름 호출  # Column의 slicing"
   ]
  },
  {
   "cell_type": "code",
   "execution_count": 7,
   "metadata": {},
   "outputs": [
    {
     "name": "stdout",
     "output_type": "stream",
     "text": [
      "      name  point  age  etc\n",
      "학생2    Tom     70   27  NaN\n",
      "학생3  Alice     90   51  NaN\n"
     ]
    }
   ],
   "source": [
    "print(df1[1:3]) # 행 번호 호출 [숫자:숫자]  row의 slicing"
   ]
  },
  {
   "cell_type": "code",
   "execution_count": 9,
   "metadata": {},
   "outputs": [
    {
     "name": "stdout",
     "output_type": "stream",
     "text": [
      "     age  point\n",
      "학생2   27     70\n"
     ]
    }
   ],
   "source": [
    "print(df1[1:2][['age','point']])"
   ]
  },
  {
   "cell_type": "code",
   "execution_count": 10,
   "metadata": {},
   "outputs": [
    {
     "name": "stdout",
     "output_type": "stream",
     "text": [
      "     age\n",
      "학생2   27\n"
     ]
    }
   ],
   "source": [
    "print(df1[1:2][['age']])"
   ]
  },
  {
   "cell_type": "code",
   "execution_count": 11,
   "metadata": {},
   "outputs": [
    {
     "name": "stdout",
     "output_type": "stream",
     "text": [
      "학생2    27\n",
      "Name: age, dtype: int64\n"
     ]
    }
   ],
   "source": [
    "print(df1[1:2]['age'])"
   ]
  },
  {
   "cell_type": "code",
   "execution_count": 12,
   "metadata": {},
   "outputs": [
    {
     "name": "stdout",
     "output_type": "stream",
     "text": [
      "name     Tom\n",
      "point     70\n",
      "age       27\n",
      "etc      NaN\n",
      "Name: 학생2, dtype: object\n"
     ]
    }
   ],
   "source": [
    "print(df1.loc['학생2']) # 행 이름 추출"
   ]
  },
  {
   "cell_type": "code",
   "execution_count": 13,
   "metadata": {},
   "outputs": [
    {
     "name": "stdout",
     "output_type": "stream",
     "text": [
      "age      27\n",
      "point    70\n",
      "Name: 학생2, dtype: object\n"
     ]
    }
   ],
   "source": [
    "print(df1.loc['학생2'][['age','point']]) # 행 이름, 열 이름 추출"
   ]
  },
  {
   "cell_type": "code",
   "execution_count": 14,
   "metadata": {},
   "outputs": [
    {
     "name": "stdout",
     "output_type": "stream",
     "text": [
      "name     Jane\n",
      "point      80\n",
      "age        34\n",
      "etc       NaN\n",
      "Name: 학생1, dtype: object\n"
     ]
    }
   ],
   "source": [
    "print(df1.iloc[0]) # 행 번호 추출"
   ]
  },
  {
   "cell_type": "code",
   "execution_count": 15,
   "metadata": {},
   "outputs": [
    {
     "name": "stdout",
     "output_type": "stream",
     "text": [
      "      name  point  age  etc\n",
      "학생2    Tom     70   27  NaN\n",
      "학생3  Alice     90   51  NaN\n"
     ]
    }
   ],
   "source": [
    "print(df1['학생2':'학생3'])"
   ]
  },
  {
   "cell_type": "code",
   "execution_count": 16,
   "metadata": {},
   "outputs": [
    {
     "name": "stdout",
     "output_type": "stream",
     "text": [
      "      name  point  age  etc\n",
      "학생2    Tom     70   27  NaN\n",
      "학생3  Alice     90   51  NaN\n"
     ]
    }
   ],
   "source": [
    "print(df1.loc['학생2':'학생3'])"
   ]
  },
  {
   "cell_type": "code",
   "execution_count": 17,
   "metadata": {},
   "outputs": [
    {
     "name": "stdout",
     "output_type": "stream",
     "text": [
      "     point  age\n",
      "학생2     70   27\n",
      "학생3     90   51\n"
     ]
    }
   ],
   "source": [
    "print(df1.loc['학생2':'학생3', 'point':'age'])"
   ]
  },
  {
   "cell_type": "code",
   "execution_count": 18,
   "metadata": {},
   "outputs": [
    {
     "name": "stdout",
     "output_type": "stream",
     "text": [
      "     point  age\n",
      "학생1     80   34\n",
      "학생2     70   27\n",
      "학생3     90   51\n",
      "학생4     60   45\n"
     ]
    }
   ],
   "source": [
    "print(df1.loc[:, 'point':'age'])"
   ]
  },
  {
   "cell_type": "code",
   "execution_count": 24,
   "metadata": {},
   "outputs": [
    {
     "name": "stdout",
     "output_type": "stream",
     "text": [
      "     name  point  age  etc\n",
      "학생1  Jane     80   34  NaN\n",
      "학생2   Tom     70   27  NaN\n",
      "----------------\n",
      "     name  point  age  etc\n",
      "학생1  Jane     80   34  NaN\n",
      "학생2   Tom     70   27  NaN\n"
     ]
    }
   ],
   "source": [
    "print(df1[0:2])\n",
    "print('----------------')\n",
    "print(df1.iloc[0:2])"
   ]
  },
  {
   "cell_type": "code",
   "execution_count": null,
   "metadata": {},
   "outputs": [],
   "source": []
  }
 ],
 "metadata": {
  "kernelspec": {
   "display_name": "Python 3",
   "language": "python",
   "name": "python3"
  },
  "language_info": {
   "codemirror_mode": {
    "name": "ipython",
    "version": 3
   },
   "file_extension": ".py",
   "mimetype": "text/x-python",
   "name": "python",
   "nbconvert_exporter": "python",
   "pygments_lexer": "ipython3",
   "version": "3.7.4"
  }
 },
 "nbformat": 4,
 "nbformat_minor": 2
}
