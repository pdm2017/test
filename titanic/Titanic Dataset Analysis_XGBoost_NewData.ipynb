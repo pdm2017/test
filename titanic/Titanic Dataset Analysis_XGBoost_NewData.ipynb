{
 "cells": [
  {
   "cell_type": "code",
   "execution_count": 1,
   "metadata": {},
   "outputs": [],
   "source": [
    "import os\n",
    "import pandas as pd\n",
    "import numpy as np\n",
    "import matplotlib.pyplot as plt\n",
    "import seaborn as sns\n",
    "from sklearn.preprocessing import LabelEncoder\n",
    "from sklearn.model_selection import train_test_split\n",
    "from sklearn.metrics import classification_report\n",
    "import sklearn.metrics\n",
    "from sklearn import datasets\n",
    "from sklearn.ensemble import ExtraTreesClassifier\n",
    "from sklearn.naive_bayes import GaussianNB\n",
    "from sklearn.ensemble import RandomForestClassifier\n",
    "from sklearn.tree import DecisionTreeClassifier\n",
    "from sklearn.linear_model import LogisticRegression\n",
    "from sklearn.svm import SVC\n",
    "from sklearn.neighbors import KNeighborsClassifier\n",
    "from xgboost import XGBClassifier\n",
    "from sklearn.ensemble import GradientBoostingClassifier\n",
    "from sklearn.ensemble import AdaBoostClassifier\n",
    "from sklearn.model_selection import GridSearchCV"
   ]
  },
  {
   "cell_type": "code",
   "execution_count": 2,
   "metadata": {},
   "outputs": [],
   "source": [
    "train = pd.read_csv(\"../data/train2.csv\")\n",
    "test = pd.read_csv(\"../data/test2.csv\")"
   ]
  },
  {
   "cell_type": "code",
   "execution_count": null,
   "metadata": {},
   "outputs": [],
   "source": [
    "test['Survived'] = 9\n",
    "allData = pd.concat([train, test], axis = 0)\n",
    "print(allData.shape, train.shape, test.shape)\n",
    "\n",
    "# 모든 컬럼을 Normalization 하지는 않는다\n",
    "notNormalColumn = ['Survived']\n",
    "NormalColumn = [k for k in allData.columns if k not in notNormalColumn]\n",
    "\n",
    "allData2 = allData[NormalColumn]\n",
    "allData3 = allData[notNormalColumn]\n",
    "\n",
    "allData_norm = (allData2 - allData2.mean()) / (allData2.max() - allData2.min())\n",
    "\n",
    "allData4 = pd.concat([allData3, allData_norm], axis = 1)\n",
    "print(allData4.shape)\n",
    "train = allData4[allData4['Survived'] != 9]\n",
    "test = allData4[allData4['Survived'] == 9]\n",
    "test.drop(['Survived'], axis = 1, inplace = True)"
   ]
  },
  {
   "cell_type": "code",
   "execution_count": 3,
   "metadata": {},
   "outputs": [],
   "source": [
    "X_train, X_test, y_train, y_test = train_test_split(train[list(test.columns)], train[\"Survived\"], test_size = 0.2)"
   ]
  },
  {
   "cell_type": "code",
   "execution_count": 4,
   "metadata": {},
   "outputs": [],
   "source": [
    "from xgboost.sklearn import XGBClassifier\n",
    "classifier = XGBClassifier(learning_rate=0.001,n_estimators=2500,\n",
    "                                max_depth=20, min_child_weight=0,\n",
    "                                gamma=0, subsample=0.7,\n",
    "                                colsample_bytree=0.7,\n",
    "                                scale_pos_weight=1, seed=27,\n",
    "                                reg_alpha=0.00006)\n",
    "classifier.fit(X_train, y_train)\n",
    "pred = classifier.predict(X_test)"
   ]
  },
  {
   "cell_type": "code",
   "execution_count": 5,
   "metadata": {},
   "outputs": [
    {
     "data": {
      "text/plain": [
       "array([[101,  15],\n",
       "       [ 16,  47]], dtype=int64)"
      ]
     },
     "execution_count": 5,
     "metadata": {},
     "output_type": "execute_result"
    }
   ],
   "source": [
    "from sklearn.metrics import confusion_matrix\n",
    "confusion_matrix(y_test, pred)"
   ]
  },
  {
   "cell_type": "code",
   "execution_count": 6,
   "metadata": {},
   "outputs": [
    {
     "name": "stdout",
     "output_type": "stream",
     "text": [
      "0    279\n",
      "1    139\n",
      "Name: Survived, dtype: int64\n"
     ]
    }
   ],
   "source": [
    "# 진짜 test 데이터를 통한 Prediction\n",
    "y_pred = classifier.predict(test).astype(int)\n",
    "submit = pd.DataFrame(list(zip(test[\"PassengerId\"], y_pred)), columns = ['PassengerId', 'Survived'])\n",
    "\n",
    "print(submit['Survived'].value_counts())\n",
    "submit.to_csv('submissionXGB1.csv', index = False)"
   ]
  },
  {
   "cell_type": "code",
   "execution_count": 8,
   "metadata": {},
   "outputs": [
    {
     "name": "stdout",
     "output_type": "stream",
     "text": [
      "0.8268156424581006\n",
      "0.8268156424581006\n"
     ]
    }
   ],
   "source": [
    "print((101+47)/(101+47+15+16))\n",
    "print((98+50) / (98+50+5+26))"
   ]
  },
  {
   "cell_type": "code",
   "execution_count": null,
   "metadata": {},
   "outputs": [],
   "source": []
  }
 ],
 "metadata": {
  "kernelspec": {
   "display_name": "Python 3",
   "language": "python",
   "name": "python3"
  },
  "language_info": {
   "codemirror_mode": {
    "name": "ipython",
    "version": 3
   },
   "file_extension": ".py",
   "mimetype": "text/x-python",
   "name": "python",
   "nbconvert_exporter": "python",
   "pygments_lexer": "ipython3",
   "version": "3.7.3"
  }
 },
 "nbformat": 4,
 "nbformat_minor": 2
}
